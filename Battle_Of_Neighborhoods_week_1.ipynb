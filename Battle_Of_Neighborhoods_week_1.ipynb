{
  "nbformat": 4,
  "nbformat_minor": 0,
  "metadata": {
    "colab": {
      "name": "Battle_Of_Neighborhoods_week_1.ipynb",
      "provenance": [],
      "collapsed_sections": [],
      "authorship_tag": "ABX9TyOTNTwssNOwKdcgQbe2XIYZ",
      "include_colab_link": true
    },
    "kernelspec": {
      "name": "python3",
      "display_name": "Python 3"
    }
  },
  "cells": [
    {
      "cell_type": "markdown",
      "metadata": {
        "id": "view-in-github",
        "colab_type": "text"
      },
      "source": [
        "<a href=\"https://colab.research.google.com/github/avinashkrishnan2020/Coursera_Capstone/blob/master/Battle_Of_Neighborhoods_week_1.ipynb\" target=\"_parent\"><img src=\"https://colab.research.google.com/assets/colab-badge.svg\" alt=\"Open In Colab\"/></a>"
      ]
    },
    {
      "cell_type": "markdown",
      "metadata": {
        "id": "UC1_OAod2hrQ",
        "colab_type": "text"
      },
      "source": [
        "#**Battle of Neighborhoods - Week 1**"
      ]
    },
    {
      "cell_type": "markdown",
      "metadata": {
        "id": "Yju3-yFI2mCz",
        "colab_type": "text"
      },
      "source": [
        "#Introduction/Business Problem"
      ]
    },
    {
      "cell_type": "markdown",
      "metadata": {
        "id": "aEeNIdJ93Cxq",
        "colab_type": "text"
      },
      "source": [
        "New York is one of the most sought after tourist destinations. The number of visitors in this city keeps increasing year over year. The city is filled with venues no one ever wants to miss out on. Other than the main highlights such as the Statue of Liberty, Central Park and so on, the city is also known for its broadway shows as well as the exquisite dining and shopping experience.\n"
      ]
    },
    {
      "cell_type": "markdown",
      "metadata": {
        "id": "hMlq-QCd4t-y",
        "colab_type": "text"
      },
      "source": [
        "Tourists who visit New York are already burdened with a hefty price tag on their travel tickets and an expensive stay only adds to their worries. This leaves them a very narrow opportunity to splurge their expense in exploring the city that is known for it's shopping and dining experience."
      ]
    },
    {
      "cell_type": "markdown",
      "metadata": {
        "id": "4_nQJ-Ds8qZK",
        "colab_type": "text"
      },
      "source": [
        "This analysis aims at finding an ideal location to start a budget friendly stay facility for tourists."
      ]
    },
    {
      "cell_type": "markdown",
      "metadata": {
        "id": "boEt5mP6D__u",
        "colab_type": "text"
      },
      "source": [
        "The stakeholders here are hotel owners who want to explore the possibilities of starting out a budget friendly hotel service for tourists without sacrificing the quality and the experience. If implemented in the an optimal manner, it can even disrupt the entire hotel industry.\n",
        "\n",
        "The service is such that only stay is provided along with other basic necessities such as furnitures, internet, etc.\n",
        "\n"
      ]
    },
    {
      "cell_type": "markdown",
      "metadata": {
        "id": "EbT0KN92GKKm",
        "colab_type": "text"
      },
      "source": [
        "One of the most crucial aspects of finding the perfect location is its accessibility to the most tourist spots. Most of the tourists who visit New York stay for a maximum of 1 week and they mostly look for hotels that are closer/esily accessible to the popular destinations.\n",
        "\n",
        "Another aspect to look out is the availabilty of bus-stop and train stations nearby. Cabs are pretty expensive in this city and hence it is recommended to explore the city via buses or train.\n",
        "\n",
        "Next, we have to checkout the availability of restaurants in the shortlisted locations. Since we are providing only stay service, it is essential to have restaurants nearby which we will be very convinient for the visitors. This allows them to explore a wide variety of delicacies instead of being restricted with what the hotels provide which is usually the case with traditional hotel services.\n",
        "\n"
      ]
    },
    {
      "cell_type": "markdown",
      "metadata": {
        "id": "BRHi7cV2KM0R",
        "colab_type": "text"
      },
      "source": [
        "Finally, we will checkout the median property prices in each neighborhood which gives us an idea about the cost of purchasing a property in different regions in order to start this budget hotel room service and hence the hotel owners can make an informed decision in the end based on the property value, and the ammenities it provides to the tourists."
      ]
    },
    {
      "cell_type": "markdown",
      "metadata": {
        "id": "Gyss2sX-SWQV",
        "colab_type": "text"
      },
      "source": [
        "# Datasets"
      ]
    },
    {
      "cell_type": "markdown",
      "metadata": {
        "id": "eRThQmzG-M3i",
        "colab_type": "text"
      },
      "source": [
        "Let us first import certain essential libraries"
      ]
    },
    {
      "cell_type": "code",
      "metadata": {
        "id": "A4ZJiVGMuxfd",
        "colab_type": "code",
        "colab": {}
      },
      "source": [
        "# Import essential libraries\n",
        "import pandas as pd\n",
        "import numpy as np\n",
        "import folium\n",
        "import json\n",
        "from bs4 import BeautifulSoup\n",
        "from urllib.request import urlopen\n",
        "import requests\n",
        "from math import sin, cos, sqrt, atan2, radians"
      ],
      "execution_count": 4,
      "outputs": []
    },
    {
      "cell_type": "markdown",
      "metadata": {
        "id": "hnXNDryr-UmS",
        "colab_type": "text"
      },
      "source": [
        "Define Foursquare credentials for service call"
      ]
    },
    {
      "cell_type": "code",
      "metadata": {
        "id": "6-11mQ-1zk91",
        "colab_type": "code",
        "colab": {}
      },
      "source": [
        "# Foursquare credentials\n",
        "clientId = 'abc'\n",
        "clientSecret = 'def'\n",
        "version = '20180605'"
      ],
      "execution_count": 10,
      "outputs": []
    },
    {
      "cell_type": "markdown",
      "metadata": {
        "id": "YX27hFlyncch",
        "colab_type": "text"
      },
      "source": [
        "**Dataset-1**"
      ]
    },
    {
      "cell_type": "markdown",
      "metadata": {
        "id": "Z8eJbwnrneHQ",
        "colab_type": "text"
      },
      "source": [
        "This dataset contains the boroughs and neighborhoods of New York along with their latitudes and longitudes.\n",
        "\n",
        "It can be obtained from the URL: https://cocl.us/new_york_dataset which gives us a json response.\n",
        "\n",
        "We will use this dataset to add markers to a map of New York with different colours for different boroughs so as to distinguish them. "
      ]
    },
    {
      "cell_type": "markdown",
      "metadata": {
        "id": "vOMb4-rL-god",
        "colab_type": "text"
      },
      "source": [
        "Download the dataset and save it as newyork_data.json"
      ]
    },
    {
      "cell_type": "code",
      "metadata": {
        "id": "Gt-3pRjmnb3w",
        "colab_type": "code",
        "colab": {}
      },
      "source": [
        "!wget -q -O 'newyork_data.json' https://cocl.us/new_york_dataset"
      ],
      "execution_count": 2,
      "outputs": []
    },
    {
      "cell_type": "code",
      "metadata": {
        "id": "p79vUhOFurtS",
        "colab_type": "code",
        "colab": {}
      },
      "source": [
        "with open('newyork_data.json', mode='r') as data_json:\n",
        "    newyork_data = json.load(data_json)"
      ],
      "execution_count": 5,
      "outputs": []
    },
    {
      "cell_type": "markdown",
      "metadata": {
        "id": "R9zDBEYC-pu8",
        "colab_type": "text"
      },
      "source": [
        "Convert the json to a pandas dataframe and remove any unwanted columns from the dataframe.\n"
      ]
    },
    {
      "cell_type": "code",
      "metadata": {
        "id": "W1mlE_nFu3ha",
        "colab_type": "code",
        "colab": {}
      },
      "source": [
        "# New York data dataframe\n",
        "pd.json_normalize(newyork_data['features'])\n",
        "\n",
        "newyork_raw_df = pd.json_normalize(newyork_data['features'])\n",
        "new_york = newyork_raw_df[['properties.borough', 'properties.name', 'geometry.coordinates']]"
      ],
      "execution_count": 6,
      "outputs": []
    },
    {
      "cell_type": "code",
      "metadata": {
        "id": "6R90qVVFu59X",
        "colab_type": "code",
        "colab": {}
      },
      "source": [
        "# Add separate latitude and longitude columns\n",
        "longitude = [item[0] for item in new_york.iloc[0:,2]]\n",
        "latitude = [item[1] for item in new_york.iloc[0:,2]]"
      ],
      "execution_count": 7,
      "outputs": []
    },
    {
      "cell_type": "code",
      "metadata": {
        "id": "-rg6pcPhu_q0",
        "colab_type": "code",
        "colab": {
          "base_uri": "https://localhost:8080/",
          "height": 198
        },
        "outputId": "f391548b-47cb-44f7-dd73-19a0216ceea0"
      },
      "source": [
        "# Drop 'geometry.coordinates' column\n",
        "new_york = new_york.drop(columns = ['geometry.coordinates'], axis = 1)\n",
        "# Add latitude column\n",
        "new_york.insert(2,'latitude',latitude)\n",
        "# Add longitude column\n",
        "new_york.insert(3, 'longitude', longitude)\n",
        "# Rename the columns\n",
        "new_york.columns = ['borough', 'neighborhood', 'latitude', 'longitude']\n",
        "# View forst 5 rows of the dataframe\n",
        "new_york.head()"
      ],
      "execution_count": 8,
      "outputs": [
        {
          "output_type": "execute_result",
          "data": {
            "text/html": [
              "<div>\n",
              "<style scoped>\n",
              "    .dataframe tbody tr th:only-of-type {\n",
              "        vertical-align: middle;\n",
              "    }\n",
              "\n",
              "    .dataframe tbody tr th {\n",
              "        vertical-align: top;\n",
              "    }\n",
              "\n",
              "    .dataframe thead th {\n",
              "        text-align: right;\n",
              "    }\n",
              "</style>\n",
              "<table border=\"1\" class=\"dataframe\">\n",
              "  <thead>\n",
              "    <tr style=\"text-align: right;\">\n",
              "      <th></th>\n",
              "      <th>borough</th>\n",
              "      <th>neighborhood</th>\n",
              "      <th>latitude</th>\n",
              "      <th>longitude</th>\n",
              "    </tr>\n",
              "  </thead>\n",
              "  <tbody>\n",
              "    <tr>\n",
              "      <th>0</th>\n",
              "      <td>Bronx</td>\n",
              "      <td>Wakefield</td>\n",
              "      <td>40.894705</td>\n",
              "      <td>-73.847201</td>\n",
              "    </tr>\n",
              "    <tr>\n",
              "      <th>1</th>\n",
              "      <td>Bronx</td>\n",
              "      <td>Co-op City</td>\n",
              "      <td>40.874294</td>\n",
              "      <td>-73.829939</td>\n",
              "    </tr>\n",
              "    <tr>\n",
              "      <th>2</th>\n",
              "      <td>Bronx</td>\n",
              "      <td>Eastchester</td>\n",
              "      <td>40.887556</td>\n",
              "      <td>-73.827806</td>\n",
              "    </tr>\n",
              "    <tr>\n",
              "      <th>3</th>\n",
              "      <td>Bronx</td>\n",
              "      <td>Fieldston</td>\n",
              "      <td>40.895437</td>\n",
              "      <td>-73.905643</td>\n",
              "    </tr>\n",
              "    <tr>\n",
              "      <th>4</th>\n",
              "      <td>Bronx</td>\n",
              "      <td>Riverdale</td>\n",
              "      <td>40.890834</td>\n",
              "      <td>-73.912585</td>\n",
              "    </tr>\n",
              "  </tbody>\n",
              "</table>\n",
              "</div>"
            ],
            "text/plain": [
              "  borough neighborhood   latitude  longitude\n",
              "0   Bronx    Wakefield  40.894705 -73.847201\n",
              "1   Bronx   Co-op City  40.874294 -73.829939\n",
              "2   Bronx  Eastchester  40.887556 -73.827806\n",
              "3   Bronx    Fieldston  40.895437 -73.905643\n",
              "4   Bronx    Riverdale  40.890834 -73.912585"
            ]
          },
          "metadata": {
            "tags": []
          },
          "execution_count": 8
        }
      ]
    },
    {
      "cell_type": "markdown",
      "metadata": {
        "id": "NppxWPMb-81W",
        "colab_type": "text"
      },
      "source": [
        "We will now use this dataset to add markers to a map of New York with different colours for different boroughs so as to distinguish them. \n",
        "\n",
        "This is done to visualize which borough has the most number of top-most visited places by tourists(Which is obtained in the proceeding dataset)"
      ]
    },
    {
      "cell_type": "code",
      "metadata": {
        "id": "m1iQ3qaFvSA-",
        "colab_type": "code",
        "colab": {
          "base_uri": "https://localhost:8080/",
          "height": 35
        },
        "outputId": "f13c83d7-2a40-4745-86d9-6624061403d6"
      },
      "source": [
        "print('Number of rows: {}'.format(new_york.shape[0]))"
      ],
      "execution_count": 9,
      "outputs": [
        {
          "output_type": "stream",
          "text": [
            "Number of rows: 306\n"
          ],
          "name": "stdout"
        }
      ]
    },
    {
      "cell_type": "markdown",
      "metadata": {
        "id": "yN4p4IkJnvVX",
        "colab_type": "text"
      },
      "source": [
        "**Dataset-2**"
      ]
    },
    {
      "cell_type": "markdown",
      "metadata": {
        "id": "kF5km4DOnAX5",
        "colab_type": "text"
      },
      "source": [
        "The second dataset is a list of top-18 most visited tourist spots in New York. The list is obtained by scraping the wikipedia page: https://en.wikipedia.org/wiki/Tourism_in_New_York_City\n",
        "\n",
        "This dataset contains the locations of each spot and we will using this data to plot markers on map of New York we created earlier. This is done to visualize which all boroughs are closer to most of these popular tourist destinations and hence narrow down the search for the ideal location."
      ]
    },
    {
      "cell_type": "code",
      "metadata": {
        "id": "64GVPkTSzsw3",
        "colab_type": "code",
        "colab": {}
      },
      "source": [
        "# Scrape the html page from wikipedia\n",
        "top_attractions_url = 'https://en.wikipedia.org/wiki/Tourism_in_New_York_City' \n",
        "attractions_html_page = urlopen(top_attractions_url)"
      ],
      "execution_count": 11,
      "outputs": []
    },
    {
      "cell_type": "code",
      "metadata": {
        "id": "-VU7QTpHzxz_",
        "colab_type": "code",
        "colab": {}
      },
      "source": [
        "# Define a BeautifulSoup instance \n",
        "# and find the required table from the page\n",
        "soup = BeautifulSoup(attractions_html_page, 'html.parser')\n",
        "attractions_table = (soup.find_all('table'))[1]"
      ],
      "execution_count": 12,
      "outputs": []
    },
    {
      "cell_type": "markdown",
      "metadata": {
        "id": "fi1aESFZ_mp3",
        "colab_type": "text"
      },
      "source": [
        "The latitudes and longitudes in the table formed above are in degrees, minutes and seconds. We need to convert these values to degrees and hence we define a method get_lat_long() for this conversion."
      ]
    },
    {
      "cell_type": "code",
      "metadata": {
        "id": "kbvJaQ7Hz4n4",
        "colab_type": "code",
        "colab": {}
      },
      "source": [
        "# Method to get latitude and longitude \n",
        "\n",
        "def get_lat_long(coordinates):\n",
        "    \n",
        "    degrees = float(coordinates.split(\"°\")[0])\n",
        "    minutes_seconds = coordinates.split(\"°\")[1]\n",
        "\n",
        "    minutes = minutes_seconds.split(\"′\")[0]\n",
        "    minutes = float(minutes)/60\n",
        "\n",
        "    seconds_direction = minutes_seconds.split(\"′\")[1]\n",
        "    seconds = seconds_direction.split(\"″\")[0]\n",
        "    seconds = float(seconds)/3600\n",
        "\n",
        "    direction = seconds_direction.split(\"″\")[1]\n",
        "\n",
        "    latlong = degrees + minutes + seconds\n",
        "    if direction == 'S' or direction == 'W':\n",
        "        latlong = -latlong\n",
        "    \n",
        "    return latlong"
      ],
      "execution_count": 13,
      "outputs": []
    },
    {
      "cell_type": "code",
      "metadata": {
        "id": "4NK6X_sVz7Q9",
        "colab_type": "code",
        "colab": {}
      },
      "source": [
        "spot = [] # Tourist spot\n",
        "latitude = [] #latitude\n",
        "longitude = [] #longitude\n",
        "\n",
        "# Add required data to each list\n",
        "for row in attractions_table.find_all('tr')[1:]:\n",
        "    row_data = row.find_all('td')\n",
        "\n",
        "    spot.append(row_data[0].find_all('a')[0].text.strip())\n",
        "    latitude.append(row_data[2].find_all('span', attrs = {'class' : 'latitude'})[0].text.strip())\n",
        "    longitude.append(row_data[2].find_all('span', attrs = {'class': 'longitude'})[0].text.strip())"
      ],
      "execution_count": 14,
      "outputs": []
    },
    {
      "cell_type": "markdown",
      "metadata": {
        "id": "AjuqvcPpAIxI",
        "colab_type": "text"
      },
      "source": [
        "Convert the latitudes and longitudes to degrees"
      ]
    },
    {
      "cell_type": "code",
      "metadata": {
        "id": "1S-QMuaSz-Db",
        "colab_type": "code",
        "colab": {}
      },
      "source": [
        "# Cnovert coordinates to degrees\n",
        " latitude = [get_lat_long(lat) for lat in latitude] \n",
        " longitude = [get_lat_long(lng) for lng in longitude]"
      ],
      "execution_count": 15,
      "outputs": []
    },
    {
      "cell_type": "markdown",
      "metadata": {
        "id": "wS14VKxcAQt_",
        "colab_type": "text"
      },
      "source": [
        "Finally, form a new datframe consisting of the top tourist spots and their latitudes and longitudes."
      ]
    },
    {
      "cell_type": "code",
      "metadata": {
        "id": "qnNaDvn30AVf",
        "colab_type": "code",
        "colab": {}
      },
      "source": [
        "# Top-18 tourist spots dataframe\n",
        "top_attractions_df = pd.DataFrame({'spot':spot, 'latitude':latitude, 'longitude':longitude})"
      ],
      "execution_count": 16,
      "outputs": []
    },
    {
      "cell_type": "code",
      "metadata": {
        "id": "RAehrX1o0CLF",
        "colab_type": "code",
        "colab": {
          "base_uri": "https://localhost:8080/",
          "height": 198
        },
        "outputId": "c2d2f640-d574-4b22-fd0b-de84b2165776"
      },
      "source": [
        "# View a sample of the dataframe formed\n",
        "top_attractions_df.head()"
      ],
      "execution_count": 17,
      "outputs": [
        {
          "output_type": "execute_result",
          "data": {
            "text/html": [
              "<div>\n",
              "<style scoped>\n",
              "    .dataframe tbody tr th:only-of-type {\n",
              "        vertical-align: middle;\n",
              "    }\n",
              "\n",
              "    .dataframe tbody tr th {\n",
              "        vertical-align: top;\n",
              "    }\n",
              "\n",
              "    .dataframe thead th {\n",
              "        text-align: right;\n",
              "    }\n",
              "</style>\n",
              "<table border=\"1\" class=\"dataframe\">\n",
              "  <thead>\n",
              "    <tr style=\"text-align: right;\">\n",
              "      <th></th>\n",
              "      <th>spot</th>\n",
              "      <th>latitude</th>\n",
              "      <th>longitude</th>\n",
              "    </tr>\n",
              "  </thead>\n",
              "  <tbody>\n",
              "    <tr>\n",
              "      <th>0</th>\n",
              "      <td>Central Park</td>\n",
              "      <td>40.782222</td>\n",
              "      <td>-73.965278</td>\n",
              "    </tr>\n",
              "    <tr>\n",
              "      <th>1</th>\n",
              "      <td>Times Square</td>\n",
              "      <td>40.756944</td>\n",
              "      <td>-73.986111</td>\n",
              "    </tr>\n",
              "    <tr>\n",
              "      <th>2</th>\n",
              "      <td>Grand Central Terminal</td>\n",
              "      <td>40.752778</td>\n",
              "      <td>-73.977222</td>\n",
              "    </tr>\n",
              "    <tr>\n",
              "      <th>3</th>\n",
              "      <td>Theater District</td>\n",
              "      <td>40.758889</td>\n",
              "      <td>-73.985000</td>\n",
              "    </tr>\n",
              "    <tr>\n",
              "      <th>4</th>\n",
              "      <td>Rockefeller Center</td>\n",
              "      <td>40.758611</td>\n",
              "      <td>-73.979167</td>\n",
              "    </tr>\n",
              "  </tbody>\n",
              "</table>\n",
              "</div>"
            ],
            "text/plain": [
              "                     spot   latitude  longitude\n",
              "0            Central Park  40.782222 -73.965278\n",
              "1            Times Square  40.756944 -73.986111\n",
              "2  Grand Central Terminal  40.752778 -73.977222\n",
              "3        Theater District  40.758889 -73.985000\n",
              "4      Rockefeller Center  40.758611 -73.979167"
            ]
          },
          "metadata": {
            "tags": []
          },
          "execution_count": 17
        }
      ]
    },
    {
      "cell_type": "code",
      "metadata": {
        "id": "WQDgrxYBAvH7",
        "colab_type": "code",
        "colab": {
          "base_uri": "https://localhost:8080/",
          "height": 35
        },
        "outputId": "76204308-0a50-432f-e27c-453bc150bbf8"
      },
      "source": [
        "print('Number of tourist spots: {}'.format(top_attractions_df.shape[0]-1))"
      ],
      "execution_count": 43,
      "outputs": [
        {
          "output_type": "stream",
          "text": [
            "Number of tourist spots: 18\n"
          ],
          "name": "stdout"
        }
      ]
    },
    {
      "cell_type": "markdown",
      "metadata": {
        "id": "zNPdb9mdoEXN",
        "colab_type": "text"
      },
      "source": [
        "**Dataset-3**"
      ]
    },
    {
      "cell_type": "markdown",
      "metadata": {
        "id": "WpA1kWhfoHnE",
        "colab_type": "text"
      },
      "source": [
        "The next dataset is obtained from the Foursqaure API where we try to retrieve bus-stops near each of the neighborhood and find out which of them are well connected with the public transport system.\n",
        "\n",
        "Inorder to find the locations that have adequate bus shelters, we plot markers using the location data obtained from foursquare and visualize which all areas that are well connected with public transport."
      ]
    },
    {
      "cell_type": "markdown",
      "metadata": {
        "id": "Ss2eeQs9CxnD",
        "colab_type": "text"
      },
      "source": [
        "For now, let us checkout two bus-stops in the city of New York"
      ]
    },
    {
      "cell_type": "code",
      "metadata": {
        "id": "x7-ChnHp2a_S",
        "colab_type": "code",
        "colab": {}
      },
      "source": [
        "# Bus-stop category id \n",
        "bus_stop_categoryId = '52f2ab2ebcbc57f1066b8b4f'\n",
        "foursquare_url = 'https://api.foursquare.com/v2/venues/search?categoryId={}&near=New+York&limit=2&client_id={}&client_secret={}&v={}'.format(bus_stop_categoryId,clientId,clientSecret,version)\n",
        "\n",
        "response = requests.get(foursquare_url).json()\n"
      ],
      "execution_count": null,
      "outputs": []
    },
    {
      "cell_type": "code",
      "metadata": {
        "id": "dc1c7Q8l52iv",
        "colab_type": "code",
        "colab": {
          "base_uri": "https://localhost:8080/",
          "height": 1000
        },
        "outputId": "c89e263a-8dff-423b-c2da-86a0fe8820d5"
      },
      "source": [
        "# Print the json having bus-stops details\n",
        "response"
      ],
      "execution_count": 31,
      "outputs": [
        {
          "output_type": "execute_result",
          "data": {
            "text/plain": [
              "{'meta': {'code': 200, 'requestId': '5f00bdb839be6735844dfe8e'},\n",
              " 'response': {'confident': False,\n",
              "  'geocode': {'feature': {'cc': 'US',\n",
              "    'displayName': 'New York, NY, United States',\n",
              "    'geometry': {'bounds': {'ne': {'lat': 40.882214, 'lng': -73.907},\n",
              "      'sw': {'lat': 40.679548, 'lng': -74.047285}},\n",
              "     'center': {'lat': 40.742185, 'lng': -73.992602}},\n",
              "    'highlightedName': '<b>New York</b>, NY, United States',\n",
              "    'id': 'geonameid:5128581',\n",
              "    'longId': '72057594043056517',\n",
              "    'matchedName': 'New York, NY, United States',\n",
              "    'name': 'New York',\n",
              "    'slug': 'new-york-city-new-york',\n",
              "    'woeType': 7},\n",
              "   'parents': [],\n",
              "   'what': '',\n",
              "   'where': 'new york'},\n",
              "  'venues': [{'categories': [{'icon': {'prefix': 'https://ss3.4sqi.net/img/categories_v2/travel/busstation_',\n",
              "       'suffix': '.png'},\n",
              "      'id': '52f2ab2ebcbc57f1066b8b4f',\n",
              "      'name': 'Bus Stop',\n",
              "      'pluralName': 'Bus Stops',\n",
              "      'primary': True,\n",
              "      'shortName': 'Bus Stop'}],\n",
              "    'hasPerk': False,\n",
              "    'id': '5c33d4a5f00a70002c7b61f8',\n",
              "    'location': {'address': 'Thomas S. Boyland Street',\n",
              "     'cc': 'US',\n",
              "     'city': 'Brooklyn',\n",
              "     'country': 'United States',\n",
              "     'crossStreet': 'Thomas S. Boyland Street and Dean Street',\n",
              "     'formattedAddress': ['Thomas S. Boyland Street (Thomas S. Boyland Street and Dean Street)',\n",
              "      'Brooklyn, NY 11233',\n",
              "      'United States'],\n",
              "     'labeledLatLngs': [{'label': 'display',\n",
              "       'lat': 40.67533265967862,\n",
              "       'lng': -73.91309015184001}],\n",
              "     'lat': 40.67533265967862,\n",
              "     'lng': -73.91309015184001,\n",
              "     'postalCode': '11233',\n",
              "     'state': 'NY'},\n",
              "    'name': 'Mta New York City Bus - B7 (Bedford-Stuyvesant) @ Thomas S. Boyland Street And Dean Street',\n",
              "    'referralId': 'v-1593884224'},\n",
              "   {'categories': [{'icon': {'prefix': 'https://ss3.4sqi.net/img/categories_v2/travel/busstation_',\n",
              "       'suffix': '.png'},\n",
              "      'id': '52f2ab2ebcbc57f1066b8b4f',\n",
              "      'name': 'Bus Stop',\n",
              "      'pluralName': 'Bus Stops',\n",
              "      'primary': True,\n",
              "      'shortName': 'Bus Stop'}],\n",
              "    'hasPerk': False,\n",
              "    'id': '50c75748e4b0af5db7fbb69a',\n",
              "    'location': {'address': '2nd Ave',\n",
              "     'cc': 'US',\n",
              "     'city': 'New York',\n",
              "     'country': 'United States',\n",
              "     'crossStreet': 'btwn E 124th & E 125 St',\n",
              "     'formattedAddress': ['2nd Ave (btwn E 124th & E 125 St)',\n",
              "      'New York, NY 10035',\n",
              "      'United States'],\n",
              "     'labeledLatLngs': [{'label': 'display',\n",
              "       'lat': 40.80280142913919,\n",
              "       'lng': -73.93379973833736}],\n",
              "     'lat': 40.80280142913919,\n",
              "     'lng': -73.93379973833736,\n",
              "     'postalCode': '10035',\n",
              "     'state': 'NY'},\n",
              "    'name': 'MTA Bus - 2 Av & E 125 St (Bx15/M15/M15-SBS/M60-SBS/M100)',\n",
              "    'referralId': 'v-1593884224'}]}}"
            ]
          },
          "metadata": {
            "tags": []
          },
          "execution_count": 31
        }
      ]
    },
    {
      "cell_type": "code",
      "metadata": {
        "id": "gPz7Tg266t2y",
        "colab_type": "code",
        "colab": {}
      },
      "source": [
        "# Convert the json to a dataframe\n",
        "bus_stops = pd.json_normalize(response['response']['venues'])"
      ],
      "execution_count": 34,
      "outputs": []
    },
    {
      "cell_type": "markdown",
      "metadata": {
        "id": "4wjLOvTtC-lF",
        "colab_type": "text"
      },
      "source": [
        "Let us filter out only the latitude and longitude details of the bus-stops as others are not required and print out a sample."
      ]
    },
    {
      "cell_type": "code",
      "metadata": {
        "id": "tz8uFVee66MO",
        "colab_type": "code",
        "colab": {
          "base_uri": "https://localhost:8080/",
          "height": 108
        },
        "outputId": "7f009676-d5fa-41c2-821f-79da8ae82d44"
      },
      "source": [
        "# Retrieve only location details\n",
        "bus_stops = bus_stops[['location.lat', 'location.lng']]\n",
        "bus_stops.columns = ['latitude', 'longitude']\n",
        "bus_stops.head(2)"
      ],
      "execution_count": 35,
      "outputs": [
        {
          "output_type": "execute_result",
          "data": {
            "text/html": [
              "<div>\n",
              "<style scoped>\n",
              "    .dataframe tbody tr th:only-of-type {\n",
              "        vertical-align: middle;\n",
              "    }\n",
              "\n",
              "    .dataframe tbody tr th {\n",
              "        vertical-align: top;\n",
              "    }\n",
              "\n",
              "    .dataframe thead th {\n",
              "        text-align: right;\n",
              "    }\n",
              "</style>\n",
              "<table border=\"1\" class=\"dataframe\">\n",
              "  <thead>\n",
              "    <tr style=\"text-align: right;\">\n",
              "      <th></th>\n",
              "      <th>latitude</th>\n",
              "      <th>longitude</th>\n",
              "    </tr>\n",
              "  </thead>\n",
              "  <tbody>\n",
              "    <tr>\n",
              "      <th>0</th>\n",
              "      <td>40.675333</td>\n",
              "      <td>-73.91309</td>\n",
              "    </tr>\n",
              "    <tr>\n",
              "      <th>1</th>\n",
              "      <td>40.802801</td>\n",
              "      <td>-73.93380</td>\n",
              "    </tr>\n",
              "  </tbody>\n",
              "</table>\n",
              "</div>"
            ],
            "text/plain": [
              "    latitude  longitude\n",
              "0  40.675333  -73.91309\n",
              "1  40.802801  -73.93380"
            ]
          },
          "metadata": {
            "tags": []
          },
          "execution_count": 35
        }
      ]
    },
    {
      "cell_type": "markdown",
      "metadata": {
        "id": "XLM6QTnTpAOk",
        "colab_type": "text"
      },
      "source": [
        "**Dataset-4**"
      ]
    },
    {
      "cell_type": "markdown",
      "metadata": {
        "id": "Z09SnMtzpEhO",
        "colab_type": "text"
      },
      "source": [
        "We will then retrive a data of available train stations in New York. We then use this dataset to plot markers on a map and visualize which all locations have a train station as well as a bus-stop nearby in order to narrow down the search for an ideal location for the hotel."
      ]
    },
    {
      "cell_type": "markdown",
      "metadata": {
        "id": "KTPtz5SOEtV8",
        "colab_type": "text"
      },
      "source": [
        "For now, let us search only two train stations for demonstration purpose"
      ]
    },
    {
      "cell_type": "code",
      "metadata": {
        "id": "DP0Fwl-hpD2a",
        "colab_type": "code",
        "colab": {
          "base_uri": "https://localhost:8080/",
          "height": 1000
        },
        "outputId": "362eb017-f61f-4e52-c1c9-244ee0ed210c"
      },
      "source": [
        "# Train station category id\n",
        "train_station_categoryId = '4bf58dd8d48988d129951735'\n",
        "foursquare_url = 'https://api.foursquare.com/v2/venues/search?categoryId={}&near=New+York&limit=2&client_id={}&client_secret={}&v={}'.format(train_station_categoryId,clientId,clientSecret,version)\n",
        "\n",
        "train_stations_response = requests.get(foursquare_url).json()\n",
        "train_stations_response"
      ],
      "execution_count": 36,
      "outputs": [
        {
          "output_type": "execute_result",
          "data": {
            "text/plain": [
              "{'meta': {'code': 200, 'requestId': '5f00c02516b1975fb9bb847d'},\n",
              " 'response': {'confident': False,\n",
              "  'geocode': {'feature': {'cc': 'US',\n",
              "    'displayName': 'New York, NY, United States',\n",
              "    'geometry': {'bounds': {'ne': {'lat': 40.882214, 'lng': -73.907},\n",
              "      'sw': {'lat': 40.679548, 'lng': -74.047285}},\n",
              "     'center': {'lat': 40.742185, 'lng': -73.992602}},\n",
              "    'highlightedName': '<b>New York</b>, NY, United States',\n",
              "    'id': 'geonameid:5128581',\n",
              "    'longId': '72057594043056517',\n",
              "    'matchedName': 'New York, NY, United States',\n",
              "    'name': 'New York',\n",
              "    'slug': 'new-york-city-new-york',\n",
              "    'woeType': 7},\n",
              "   'parents': [],\n",
              "   'what': '',\n",
              "   'where': 'new york'},\n",
              "  'venues': [{'categories': [{'icon': {'prefix': 'https://ss3.4sqi.net/img/categories_v2/travel/trainstation_',\n",
              "       'suffix': '.png'},\n",
              "      'id': '4bf58dd8d48988d129951735',\n",
              "      'name': 'Train Station',\n",
              "      'pluralName': 'Train Stations',\n",
              "      'primary': True,\n",
              "      'shortName': 'Train Station'}],\n",
              "    'delivery': {'id': '2198512',\n",
              "     'provider': {'icon': {'name': '/delivery_provider_seamless_20180129.png',\n",
              "       'prefix': 'https://fastly.4sqi.net/img/general/cap/',\n",
              "       'sizes': [40, 50]},\n",
              "      'name': 'seamless'},\n",
              "     'url': 'https://www.seamless.com/menu/chickpea-penn-station-penn-station-34th-st-amtrak-concourse-level-new-york/2198512?affiliate=1131&utm_source=foursquare-affiliate-network&utm_medium=affiliate&utm_campaign=1131&utm_content=2198512'},\n",
              "    'hasPerk': False,\n",
              "    'id': '42911d00f964a520f5231fe3',\n",
              "    'location': {'address': '1 Penn Plz',\n",
              "     'cc': 'US',\n",
              "     'city': 'New York',\n",
              "     'country': 'United States',\n",
              "     'crossStreet': 'btwn W 31st & W 33rd St',\n",
              "     'formattedAddress': ['1 Penn Plz (btwn W 31st & W 33rd St)',\n",
              "      'New York, NY 10001',\n",
              "      'United States'],\n",
              "     'lat': 40.75043677897731,\n",
              "     'lng': -73.99361145269988,\n",
              "     'neighborhood': 'Chelsea',\n",
              "     'postalCode': '10001',\n",
              "     'state': 'NY'},\n",
              "    'name': 'New York Penn Station',\n",
              "    'referralId': 'v-1593884734',\n",
              "    'venuePage': {'id': '85006792'}},\n",
              "   {'categories': [{'icon': {'prefix': 'https://ss3.4sqi.net/img/categories_v2/travel/trainstation_',\n",
              "       'suffix': '.png'},\n",
              "      'id': '4bf58dd8d48988d129951735',\n",
              "      'name': 'Train Station',\n",
              "      'pluralName': 'Train Stations',\n",
              "      'primary': True,\n",
              "      'shortName': 'Train Station'}],\n",
              "    'hasPerk': False,\n",
              "    'id': '42829c80f964a5206a221fe3',\n",
              "    'location': {'address': '87 E 42nd St',\n",
              "     'cc': 'US',\n",
              "     'city': 'New York',\n",
              "     'country': 'United States',\n",
              "     'crossStreet': 'btwn Vanderbilt & Park Ave',\n",
              "     'formattedAddress': ['87 E 42nd St (btwn Vanderbilt & Park Ave)',\n",
              "      'New York, NY 10017',\n",
              "      'United States'],\n",
              "     'lat': 40.75264656279953,\n",
              "     'lng': -73.97722639728177,\n",
              "     'postalCode': '10017',\n",
              "     'state': 'NY'},\n",
              "    'name': 'Grand Central Terminal',\n",
              "    'referralId': 'v-1593884734',\n",
              "    'venuePage': {'id': '91385129'}}]}}"
            ]
          },
          "metadata": {
            "tags": []
          },
          "execution_count": 36
        }
      ]
    },
    {
      "cell_type": "markdown",
      "metadata": {
        "id": "lLZ0959YEiOh",
        "colab_type": "text"
      },
      "source": [
        "Let us filter out only the latitude and longitude details of the train-stations as others are not required and print out a sample."
      ]
    },
    {
      "cell_type": "code",
      "metadata": {
        "id": "CCk70mAH7key",
        "colab_type": "code",
        "colab": {
          "base_uri": "https://localhost:8080/",
          "height": 108
        },
        "outputId": "6f57a628-0e29-4747-969a-1b3fec3f5105"
      },
      "source": [
        "train_stations = pd.json_normalize(train_stations_response['response']['venues'])\n",
        "train_stations = train_stations[['location.lat','location.lng']]\n",
        "train_stations.columns = ['latitude', 'longitude']\n",
        "train_stations.head(2)"
      ],
      "execution_count": 40,
      "outputs": [
        {
          "output_type": "execute_result",
          "data": {
            "text/html": [
              "<div>\n",
              "<style scoped>\n",
              "    .dataframe tbody tr th:only-of-type {\n",
              "        vertical-align: middle;\n",
              "    }\n",
              "\n",
              "    .dataframe tbody tr th {\n",
              "        vertical-align: top;\n",
              "    }\n",
              "\n",
              "    .dataframe thead th {\n",
              "        text-align: right;\n",
              "    }\n",
              "</style>\n",
              "<table border=\"1\" class=\"dataframe\">\n",
              "  <thead>\n",
              "    <tr style=\"text-align: right;\">\n",
              "      <th></th>\n",
              "      <th>latitude</th>\n",
              "      <th>longitude</th>\n",
              "    </tr>\n",
              "  </thead>\n",
              "  <tbody>\n",
              "    <tr>\n",
              "      <th>0</th>\n",
              "      <td>40.750437</td>\n",
              "      <td>-73.993611</td>\n",
              "    </tr>\n",
              "    <tr>\n",
              "      <th>1</th>\n",
              "      <td>40.752647</td>\n",
              "      <td>-73.977226</td>\n",
              "    </tr>\n",
              "  </tbody>\n",
              "</table>\n",
              "</div>"
            ],
            "text/plain": [
              "    latitude  longitude\n",
              "0  40.750437 -73.993611\n",
              "1  40.752647 -73.977226"
            ]
          },
          "metadata": {
            "tags": []
          },
          "execution_count": 40
        }
      ]
    },
    {
      "cell_type": "markdown",
      "metadata": {
        "id": "5pJDNVdiqbv2",
        "colab_type": "text"
      },
      "source": [
        "**Dataset-5**"
      ]
    },
    {
      "cell_type": "markdown",
      "metadata": {
        "id": "eaZCL8VEqfpU",
        "colab_type": "text"
      },
      "source": [
        "Using the foursquare API, we can find out the restaurants in the vicinity of each neighborhood. This is crucial as the service provided is only for stay and hence it must be a location where we can find as many delicacies as possible so as to cater to visitors from different parts of the world."
      ]
    },
    {
      "cell_type": "markdown",
      "metadata": {
        "id": "_iOQHCdxGuIx",
        "colab_type": "text"
      },
      "source": [
        "For now, let us call only two restaurants in New York for demonstration purpose."
      ]
    },
    {
      "cell_type": "code",
      "metadata": {
        "id": "_dx2WbRP2c2Z",
        "colab_type": "code",
        "colab": {
          "base_uri": "https://localhost:8080/",
          "height": 1000
        },
        "outputId": "d2d2dcf3-53ac-47e2-fba0-fa940c3f0a54"
      },
      "source": [
        "# Restaurants category id\n",
        "restaurants_categoryId = '4d4b7105d754a06374d81259'\n",
        "foursquare_url = 'https://api.foursquare.com/v2/venues/search?categoryId={}&near=New+York&limit=2&client_id={}&client_secret={}&v={}'.format(restaurants_categoryId,clientId,clientSecret,version)\n",
        "\n",
        "restaurants_response = requests.get(foursquare_url).json()\n",
        "restaurants_response"
      ],
      "execution_count": 41,
      "outputs": [
        {
          "output_type": "execute_result",
          "data": {
            "text/plain": [
              "{'meta': {'code': 200, 'requestId': '5f00bf517b9ef927ef349d42'},\n",
              " 'response': {'confident': False,\n",
              "  'geocode': {'feature': {'cc': 'US',\n",
              "    'displayName': 'New York, NY, United States',\n",
              "    'geometry': {'bounds': {'ne': {'lat': 40.882214, 'lng': -73.907},\n",
              "      'sw': {'lat': 40.679548, 'lng': -74.047285}},\n",
              "     'center': {'lat': 40.742185, 'lng': -73.992602}},\n",
              "    'highlightedName': '<b>New York</b>, NY, United States',\n",
              "    'id': 'geonameid:5128581',\n",
              "    'longId': '72057594043056517',\n",
              "    'matchedName': 'New York, NY, United States',\n",
              "    'name': 'New York',\n",
              "    'slug': 'new-york-city-new-york',\n",
              "    'woeType': 7},\n",
              "   'parents': [],\n",
              "   'what': '',\n",
              "   'where': 'new york'},\n",
              "  'venues': [{'categories': [{'icon': {'prefix': 'https://ss3.4sqi.net/img/categories_v2/food/french_',\n",
              "       'suffix': '.png'},\n",
              "      'id': '4bf58dd8d48988d10c941735',\n",
              "      'name': 'French Restaurant',\n",
              "      'pluralName': 'French Restaurants',\n",
              "      'primary': True,\n",
              "      'shortName': 'French'}],\n",
              "    'hasPerk': False,\n",
              "    'id': '57583641498e90001a32e13e',\n",
              "    'location': {'address': '138 Lafayette St',\n",
              "     'cc': 'US',\n",
              "     'city': 'New York',\n",
              "     'country': 'United States',\n",
              "     'formattedAddress': ['138 Lafayette St',\n",
              "      'New York, NY 10013',\n",
              "      'United States'],\n",
              "     'labeledLatLngs': [{'label': 'display',\n",
              "       'lat': 40.71911370398213,\n",
              "       'lng': -74.00020174355126}],\n",
              "     'lat': 40.71911370398213,\n",
              "     'lng': -74.00020174355126,\n",
              "     'postalCode': '10013',\n",
              "     'state': 'NY'},\n",
              "    'name': 'Le Coucou',\n",
              "    'referralId': 'v-1593885000',\n",
              "    'venuePage': {'id': '332194379'}},\n",
              "   {'categories': [{'icon': {'prefix': 'https://ss3.4sqi.net/img/categories_v2/food/ramen_',\n",
              "       'suffix': '.png'},\n",
              "      'id': '55a59bace4b013909087cb24',\n",
              "      'name': 'Ramen Restaurant',\n",
              "      'pluralName': 'Ramen Restaurants',\n",
              "      'primary': True,\n",
              "      'shortName': 'Ramen'}],\n",
              "    'hasPerk': False,\n",
              "    'id': '591f17e0c9f9074efb17166c',\n",
              "    'location': {'address': '545 Court St',\n",
              "     'cc': 'US',\n",
              "     'city': 'New York',\n",
              "     'country': 'United States',\n",
              "     'crossStreet': 'btwn Hamilton Ave & Garnet St',\n",
              "     'formattedAddress': ['545 Court St (btwn Hamilton Ave & Garnet St)',\n",
              "      'New York, NY 11231',\n",
              "      'United States'],\n",
              "     'labeledLatLngs': [{'label': 'display',\n",
              "       'lat': 40.67422356225874,\n",
              "       'lng': -73.99987668381874}],\n",
              "     'lat': 40.67422356225874,\n",
              "     'lng': -73.99987668381874,\n",
              "     'postalCode': '11231',\n",
              "     'state': 'NY'},\n",
              "    'name': 'Za-Ya Ramen',\n",
              "    'referralId': 'v-1593885000'}]}}"
            ]
          },
          "metadata": {
            "tags": []
          },
          "execution_count": 41
        }
      ]
    },
    {
      "cell_type": "markdown",
      "metadata": {
        "id": "TAgvp5WvGmUL",
        "colab_type": "text"
      },
      "source": [
        "Form a dataframe of the locations of each restaurant and their category.\n"
      ]
    },
    {
      "cell_type": "code",
      "metadata": {
        "id": "mSKfrvWp8sjZ",
        "colab_type": "code",
        "colab": {
          "base_uri": "https://localhost:8080/",
          "height": 108
        },
        "outputId": "1ed066f7-eb33-4c32-8b1d-e92f3dc1192e"
      },
      "source": [
        "restaurants = pd.json_normalize(restaurants_response['response']['venues'])\n",
        "restaurants = restaurants[['location.lat','location.lng','categories']]\n",
        "restaurants.columns = ['latitude', 'longitude', 'category']\n",
        "# Filter out the category of each restaurant\n",
        "restaurants['category'] = [item[0]['name'] for item in restaurants['category']]\n",
        "restaurants.head(2)"
      ],
      "execution_count": 46,
      "outputs": [
        {
          "output_type": "execute_result",
          "data": {
            "text/html": [
              "<div>\n",
              "<style scoped>\n",
              "    .dataframe tbody tr th:only-of-type {\n",
              "        vertical-align: middle;\n",
              "    }\n",
              "\n",
              "    .dataframe tbody tr th {\n",
              "        vertical-align: top;\n",
              "    }\n",
              "\n",
              "    .dataframe thead th {\n",
              "        text-align: right;\n",
              "    }\n",
              "</style>\n",
              "<table border=\"1\" class=\"dataframe\">\n",
              "  <thead>\n",
              "    <tr style=\"text-align: right;\">\n",
              "      <th></th>\n",
              "      <th>latitude</th>\n",
              "      <th>longitude</th>\n",
              "      <th>category</th>\n",
              "    </tr>\n",
              "  </thead>\n",
              "  <tbody>\n",
              "    <tr>\n",
              "      <th>0</th>\n",
              "      <td>40.719114</td>\n",
              "      <td>-74.000202</td>\n",
              "      <td>French Restaurant</td>\n",
              "    </tr>\n",
              "    <tr>\n",
              "      <th>1</th>\n",
              "      <td>40.674224</td>\n",
              "      <td>-73.999877</td>\n",
              "      <td>Ramen Restaurant</td>\n",
              "    </tr>\n",
              "  </tbody>\n",
              "</table>\n",
              "</div>"
            ],
            "text/plain": [
              "    latitude  longitude           category\n",
              "0  40.719114 -74.000202  French Restaurant\n",
              "1  40.674224 -73.999877   Ramen Restaurant"
            ]
          },
          "metadata": {
            "tags": []
          },
          "execution_count": 46
        }
      ]
    },
    {
      "cell_type": "markdown",
      "metadata": {
        "id": "FSBtWoZrrc0p",
        "colab_type": "text"
      },
      "source": [
        "**Dataset-6**"
      ]
    },
    {
      "cell_type": "markdown",
      "metadata": {
        "id": "QaJqqia2rfgx",
        "colab_type": "text"
      },
      "source": [
        "Lastly, we can download a dataset from the url:  https://data.cityofnewyork.us/resource/5ebm-myj7.json\n",
        "which contains the median house sale prices in different neighborhoods and hence gives us an idea about the property costs in different areas, which is again an important factor when we are trying to buy a property which we will be using for the hotel service."
      ]
    },
    {
      "cell_type": "code",
      "metadata": {
        "id": "ytF0w_UG2wsA",
        "colab_type": "code",
        "colab": {}
      },
      "source": [
        "# New york property sales\n",
        "!wget -q -O 'sales_data.json' https://data.cityofnewyork.us/resource/5ebm-myj7.json"
      ],
      "execution_count": 23,
      "outputs": []
    },
    {
      "cell_type": "code",
      "metadata": {
        "id": "6zftVBtw22tz",
        "colab_type": "code",
        "colab": {}
      },
      "source": [
        "# Convert json to dataframe\n",
        "with open('sales_data.json') as sales_data:\n",
        "    sales_data_df = pd.read_json(sales_data)"
      ],
      "execution_count": 26,
      "outputs": []
    },
    {
      "cell_type": "code",
      "metadata": {
        "id": "V4cZB5rT3Dqq",
        "colab_type": "code",
        "colab": {
          "base_uri": "https://localhost:8080/",
          "height": 285
        },
        "outputId": "9b122528-0fd5-40fc-ffda-e315139ea146"
      },
      "source": [
        "# View sample of the dataframe\n",
        "sales_data_df.head()"
      ],
      "execution_count": 27,
      "outputs": [
        {
          "output_type": "execute_result",
          "data": {
            "text/html": [
              "<div>\n",
              "<style scoped>\n",
              "    .dataframe tbody tr th:only-of-type {\n",
              "        vertical-align: middle;\n",
              "    }\n",
              "\n",
              "    .dataframe tbody tr th {\n",
              "        vertical-align: top;\n",
              "    }\n",
              "\n",
              "    .dataframe thead th {\n",
              "        text-align: right;\n",
              "    }\n",
              "</style>\n",
              "<table border=\"1\" class=\"dataframe\">\n",
              "  <thead>\n",
              "    <tr style=\"text-align: right;\">\n",
              "      <th></th>\n",
              "      <th>borough</th>\n",
              "      <th>neighborhood</th>\n",
              "      <th>type_of_home</th>\n",
              "      <th>number_of_sales</th>\n",
              "      <th>lowest_sale_price</th>\n",
              "      <th>average_sale_price</th>\n",
              "      <th>median_sale_price</th>\n",
              "      <th>highest_sale_price</th>\n",
              "      <th>year</th>\n",
              "    </tr>\n",
              "  </thead>\n",
              "  <tbody>\n",
              "    <tr>\n",
              "      <th>0</th>\n",
              "      <td>MANHATTAN</td>\n",
              "      <td>ALPHABET CITY</td>\n",
              "      <td>01 ONE FAMILY HOMES</td>\n",
              "      <td>1</td>\n",
              "      <td>593362</td>\n",
              "      <td>593362</td>\n",
              "      <td>593362</td>\n",
              "      <td>593362</td>\n",
              "      <td>2010</td>\n",
              "    </tr>\n",
              "    <tr>\n",
              "      <th>1</th>\n",
              "      <td>MANHATTAN</td>\n",
              "      <td>ALPHABET CITY</td>\n",
              "      <td>02 TWO FAMILY HOMES</td>\n",
              "      <td>1</td>\n",
              "      <td>1320000</td>\n",
              "      <td>1320000</td>\n",
              "      <td>1320000</td>\n",
              "      <td>1320000</td>\n",
              "      <td>2010</td>\n",
              "    </tr>\n",
              "    <tr>\n",
              "      <th>2</th>\n",
              "      <td>MANHATTAN</td>\n",
              "      <td>ALPHABET CITY</td>\n",
              "      <td>03 THREE FAMILY HOMES</td>\n",
              "      <td>1</td>\n",
              "      <td>900000</td>\n",
              "      <td>900000</td>\n",
              "      <td>900000</td>\n",
              "      <td>900000</td>\n",
              "      <td>2010</td>\n",
              "    </tr>\n",
              "    <tr>\n",
              "      <th>3</th>\n",
              "      <td>MANHATTAN</td>\n",
              "      <td>CHELSEA</td>\n",
              "      <td>01 ONE FAMILY HOMES</td>\n",
              "      <td>2</td>\n",
              "      <td>500000</td>\n",
              "      <td>2875000</td>\n",
              "      <td>2875000</td>\n",
              "      <td>5250000</td>\n",
              "      <td>2010</td>\n",
              "    </tr>\n",
              "    <tr>\n",
              "      <th>4</th>\n",
              "      <td>MANHATTAN</td>\n",
              "      <td>CHELSEA</td>\n",
              "      <td>02 TWO FAMILY HOMES</td>\n",
              "      <td>2</td>\n",
              "      <td>1306213</td>\n",
              "      <td>2603107</td>\n",
              "      <td>2603107</td>\n",
              "      <td>3900000</td>\n",
              "      <td>2010</td>\n",
              "    </tr>\n",
              "  </tbody>\n",
              "</table>\n",
              "</div>"
            ],
            "text/plain": [
              "     borough   neighborhood  ... highest_sale_price  year\n",
              "0  MANHATTAN  ALPHABET CITY  ...             593362  2010\n",
              "1  MANHATTAN  ALPHABET CITY  ...            1320000  2010\n",
              "2  MANHATTAN  ALPHABET CITY  ...             900000  2010\n",
              "3  MANHATTAN        CHELSEA  ...            5250000  2010\n",
              "4  MANHATTAN        CHELSEA  ...            3900000  2010\n",
              "\n",
              "[5 rows x 9 columns]"
            ]
          },
          "metadata": {
            "tags": []
          },
          "execution_count": 27
        }
      ]
    },
    {
      "cell_type": "markdown",
      "metadata": {
        "id": "fs_PzlfSqaJF",
        "colab_type": "text"
      },
      "source": [
        "We will now plot markers using the location details obtained above and find out the suitable location(s) where we can start the budget friendly hotel."
      ]
    },
    {
      "cell_type": "code",
      "metadata": {
        "id": "HJuKumN1HVy4",
        "colab_type": "code",
        "colab": {}
      },
      "source": [
        ""
      ],
      "execution_count": null,
      "outputs": []
    }
  ]
}